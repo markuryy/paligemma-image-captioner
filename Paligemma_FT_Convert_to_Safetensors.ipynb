{
  "nbformat": 4,
  "nbformat_minor": 0,
  "metadata": {
    "colab": {
      "provenance": [],
      "gpuType": "L4",
      "machine_shape": "hm"
    },
    "kernelspec": {
      "name": "python3",
      "display_name": "Python 3"
    },
    "language_info": {
      "name": "python"
    },
    "accelerator": "GPU"
  },
  "cells": [
    {
      "cell_type": "markdown",
      "source": [
        "## Mount Google Drive (Optional)"
      ],
      "metadata": {
        "id": "p0nDg4mj4d0_"
      }
    },
    {
      "cell_type": "code",
      "source": [
        "from google.colab import drive\n",
        "drive.mount('/content/drive')"
      ],
      "metadata": {
        "id": "NewXpFmp4icP"
      },
      "execution_count": null,
      "outputs": []
    },
    {
      "cell_type": "markdown",
      "source": [
        "## Clone the Repository"
      ],
      "metadata": {
        "id": "33UFsk6Z4bwq"
      }
    },
    {
      "cell_type": "code",
      "execution_count": null,
      "metadata": {
        "id": "yaK4Wxkn3WDZ"
      },
      "outputs": [],
      "source": [
        "!git clone https://github.com/markuryy/finetuned-paligemma-inference.git\n",
        "%cd finetuned-paligemma-inference"
      ]
    },
    {
      "cell_type": "markdown",
      "source": [
        "## Install Required Dependencies"
      ],
      "metadata": {
        "id": "Dq3HKFbt3zIi"
      }
    },
    {
      "cell_type": "code",
      "source": [
        "!pip install -r requirements.txt"
      ],
      "metadata": {
        "id": "yPjZzuyG34k2"
      },
      "execution_count": null,
      "outputs": []
    },
    {
      "cell_type": "markdown",
      "source": [
        "## Download the Tokenizer and Big Vision Repository"
      ],
      "metadata": {
        "id": "mf88so0V36I1"
      }
    },
    {
      "cell_type": "code",
      "source": [
        "!python download_tokenizer.py"
      ],
      "metadata": {
        "id": "pfZce3Yv39Ib"
      },
      "execution_count": null,
      "outputs": []
    },
    {
      "cell_type": "markdown",
      "source": [
        "## Running Inference (WIP)"
      ],
      "metadata": {
        "id": "bFhlx6-N3-cf"
      }
    },
    {
      "cell_type": "code",
      "source": [
        "!python paligemma_inference.py --model_path /content/drive/MyDrive/models/my-custom-paligemma-ckpt-final.npz --image_dir /content/drive/MyDrive/Datasets/test --output_dir /content/drive/MyDrive/Datasets/test"
      ],
      "metadata": {
        "id": "n5ctlN_q4BZJ"
      },
      "execution_count": null,
      "outputs": []
    },
    {
      "cell_type": "markdown",
      "source": [
        "## Convert to HF\n",
        "\n",
        "Colab T4 free tier doesn't have enough ram :(\n",
        "\n",
        "  System RAM peaks at like 19 GB\n",
        "\n",
        "  GPU RAM peaks at 15.5\n",
        "  \n",
        "L4 worked for me"
      ],
      "metadata": {
        "id": "IU2F2SlL71J3"
      }
    },
    {
      "cell_type": "code",
      "source": [
        "!git pull"
      ],
      "metadata": {
        "id": "kW7Clsad_GFC"
      },
      "execution_count": null,
      "outputs": []
    },
    {
      "cell_type": "code",
      "source": [
        "!python convert_to_hf.py --checkpoint_path /content/drive/MyDrive/models/my-custom-paligemma-ckpt-final.npz --tokenizer_model_file ./paligemma_tokenizer.model --pytorch_dump_folder_path /content/drive/MyDrive/models/Paligemma/finetune1_hf --precision float32 --variant \"3b-448px\" --do_convert_weights"
      ],
      "metadata": {
        "id": "YvworMwK7z2J"
      },
      "execution_count": null,
      "outputs": []
    },
    {
      "cell_type": "markdown",
      "source": [
        "## (Don't) Push to HF"
      ],
      "metadata": {
        "id": "gfzRJ6IRCk72"
      }
    },
    {
      "cell_type": "code",
      "source": [
        "!pip install huggingface_hub\n",
        "\n",
        "from huggingface_hub import HfApi, HfFolder, Repository\n",
        "\n",
        "# Log in to Hugging Face\n",
        "import os\n",
        "from huggingface_hub import notebook_login\n",
        "\n",
        "notebook_login()"
      ],
      "metadata": {
        "id": "XSav2y6XEakw"
      },
      "execution_count": null,
      "outputs": []
    },
    {
      "cell_type": "code",
      "source": [
        "from huggingface_hub import create_repo, upload_folder\n",
        "\n",
        "# Set your variables\n",
        "model_name = \"markury/paligemma-448-ft-1\"  # Replace with your Hugging Face username and desired model name\n",
        "model_path = \"/content/drive/MyDrive/models/Paligemma/finetune1_hf\"  # Path where the model is saved\n",
        "\n",
        "# Create a model repository if it doesn't exist\n",
        "create_repo(model_name, repo_type=\"model\", exist_ok=True)\n",
        "\n",
        "# Upload the model to the repository\n",
        "upload_folder(\n",
        "    folder_path=model_path,\n",
        "    repo_id=model_name,\n",
        "    repo_type=\"model\",\n",
        "    commit_message=\"convert npz to safetensors\"\n",
        ")\n",
        "\n",
        "print(f\"Model pushed to Hugging Face Hub under {model_name}!\")\n"
      ],
      "metadata": {
        "id": "UHdy8fF_CnkG"
      },
      "execution_count": null,
      "outputs": []
    }
  ]
}